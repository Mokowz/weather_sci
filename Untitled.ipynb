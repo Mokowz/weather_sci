{
 "cells": [
  {
   "cell_type": "code",
   "execution_count": 32,
   "id": "bdc96330",
   "metadata": {},
   "outputs": [],
   "source": [
    "import pandas as pd\n",
    "import numpy as np\n",
    "import matplotlib.pyplot as plt\n",
    "from scipy.optimize import curve_fit\n",
    "%matplotlib inline"
   ]
  },
  {
   "cell_type": "code",
   "execution_count": 79,
   "id": "7ebfbebc",
   "metadata": {},
   "outputs": [
    {
     "data": {
      "text/html": [
       "<div>\n",
       "<style scoped>\n",
       "    .dataframe tbody tr th:only-of-type {\n",
       "        vertical-align: middle;\n",
       "    }\n",
       "\n",
       "    .dataframe tbody tr th {\n",
       "        vertical-align: top;\n",
       "    }\n",
       "\n",
       "    .dataframe thead th {\n",
       "        text-align: right;\n",
       "    }\n",
       "</style>\n",
       "<table border=\"1\" class=\"dataframe\">\n",
       "  <thead>\n",
       "    <tr style=\"text-align: right;\">\n",
       "      <th></th>\n",
       "      <th>COOPID</th>\n",
       "      <th>WBANID</th>\n",
       "      <th>Prelim</th>\n",
       "      <th>year</th>\n",
       "      <th>month</th>\n",
       "      <th>day</th>\n",
       "      <th>Tmax</th>\n",
       "      <th>Tmin</th>\n",
       "      <th>Tobs</th>\n",
       "      <th>Tmean</th>\n",
       "      <th>...</th>\n",
       "      <th>Snwd</th>\n",
       "      <th>meanTmean</th>\n",
       "      <th>meanTmax</th>\n",
       "      <th>meanTmin</th>\n",
       "      <th>highTmax</th>\n",
       "      <th>lowTmin</th>\n",
       "      <th>sumCdd</th>\n",
       "      <th>sumHdd</th>\n",
       "      <th>sumprcp</th>\n",
       "      <th>sumsnow</th>\n",
       "    </tr>\n",
       "  </thead>\n",
       "  <tbody>\n",
       "    <tr>\n",
       "      <th>0</th>\n",
       "      <td>190770</td>\n",
       "      <td>14739</td>\n",
       "      <td></td>\n",
       "      <td>2000</td>\n",
       "      <td>1</td>\n",
       "      <td>1</td>\n",
       "      <td>50</td>\n",
       "      <td>27</td>\n",
       "      <td></td>\n",
       "      <td>39</td>\n",
       "      <td>...</td>\n",
       "      <td>0</td>\n",
       "      <td>NaN</td>\n",
       "      <td>NaN</td>\n",
       "      <td>NaN</td>\n",
       "      <td>NaN</td>\n",
       "      <td>NaN</td>\n",
       "      <td>NaN</td>\n",
       "      <td>NaN</td>\n",
       "      <td>NaN</td>\n",
       "      <td>NaN</td>\n",
       "    </tr>\n",
       "    <tr>\n",
       "      <th>1</th>\n",
       "      <td>190770</td>\n",
       "      <td>14739</td>\n",
       "      <td></td>\n",
       "      <td>2000</td>\n",
       "      <td>1</td>\n",
       "      <td>2</td>\n",
       "      <td>54</td>\n",
       "      <td>34</td>\n",
       "      <td></td>\n",
       "      <td>44</td>\n",
       "      <td>...</td>\n",
       "      <td>0</td>\n",
       "      <td>NaN</td>\n",
       "      <td>NaN</td>\n",
       "      <td>NaN</td>\n",
       "      <td>NaN</td>\n",
       "      <td>NaN</td>\n",
       "      <td>NaN</td>\n",
       "      <td>NaN</td>\n",
       "      <td>NaN</td>\n",
       "      <td>NaN</td>\n",
       "    </tr>\n",
       "    <tr>\n",
       "      <th>2</th>\n",
       "      <td>190770</td>\n",
       "      <td>14739</td>\n",
       "      <td></td>\n",
       "      <td>2000</td>\n",
       "      <td>1</td>\n",
       "      <td>3</td>\n",
       "      <td>64</td>\n",
       "      <td>43</td>\n",
       "      <td></td>\n",
       "      <td>54</td>\n",
       "      <td>...</td>\n",
       "      <td>0</td>\n",
       "      <td>NaN</td>\n",
       "      <td>NaN</td>\n",
       "      <td>NaN</td>\n",
       "      <td>NaN</td>\n",
       "      <td>NaN</td>\n",
       "      <td>NaN</td>\n",
       "      <td>NaN</td>\n",
       "      <td>NaN</td>\n",
       "      <td>NaN</td>\n",
       "    </tr>\n",
       "    <tr>\n",
       "      <th>3</th>\n",
       "      <td>190770</td>\n",
       "      <td>14739</td>\n",
       "      <td></td>\n",
       "      <td>2000</td>\n",
       "      <td>1</td>\n",
       "      <td>4</td>\n",
       "      <td>63</td>\n",
       "      <td>40</td>\n",
       "      <td></td>\n",
       "      <td>52</td>\n",
       "      <td>...</td>\n",
       "      <td>0</td>\n",
       "      <td>NaN</td>\n",
       "      <td>NaN</td>\n",
       "      <td>NaN</td>\n",
       "      <td>NaN</td>\n",
       "      <td>NaN</td>\n",
       "      <td>NaN</td>\n",
       "      <td>NaN</td>\n",
       "      <td>NaN</td>\n",
       "      <td>NaN</td>\n",
       "    </tr>\n",
       "    <tr>\n",
       "      <th>4</th>\n",
       "      <td>190770</td>\n",
       "      <td>14739</td>\n",
       "      <td></td>\n",
       "      <td>2000</td>\n",
       "      <td>1</td>\n",
       "      <td>5</td>\n",
       "      <td>49</td>\n",
       "      <td>22</td>\n",
       "      <td></td>\n",
       "      <td>36</td>\n",
       "      <td>...</td>\n",
       "      <td>0</td>\n",
       "      <td>NaN</td>\n",
       "      <td>NaN</td>\n",
       "      <td>NaN</td>\n",
       "      <td>NaN</td>\n",
       "      <td>NaN</td>\n",
       "      <td>NaN</td>\n",
       "      <td>NaN</td>\n",
       "      <td>NaN</td>\n",
       "      <td>NaN</td>\n",
       "    </tr>\n",
       "    <tr>\n",
       "      <th>...</th>\n",
       "      <td>...</td>\n",
       "      <td>...</td>\n",
       "      <td>...</td>\n",
       "      <td>...</td>\n",
       "      <td>...</td>\n",
       "      <td>...</td>\n",
       "      <td>...</td>\n",
       "      <td>...</td>\n",
       "      <td>...</td>\n",
       "      <td>...</td>\n",
       "      <td>...</td>\n",
       "      <td>...</td>\n",
       "      <td>...</td>\n",
       "      <td>...</td>\n",
       "      <td>...</td>\n",
       "      <td>...</td>\n",
       "      <td>...</td>\n",
       "      <td>...</td>\n",
       "      <td>...</td>\n",
       "      <td>...</td>\n",
       "      <td>...</td>\n",
       "    </tr>\n",
       "    <tr>\n",
       "      <th>361</th>\n",
       "      <td>190770</td>\n",
       "      <td>14739</td>\n",
       "      <td></td>\n",
       "      <td>2000</td>\n",
       "      <td>12</td>\n",
       "      <td>27</td>\n",
       "      <td>32</td>\n",
       "      <td>21</td>\n",
       "      <td></td>\n",
       "      <td>27</td>\n",
       "      <td>...</td>\n",
       "      <td>0</td>\n",
       "      <td>NaN</td>\n",
       "      <td>NaN</td>\n",
       "      <td>NaN</td>\n",
       "      <td>NaN</td>\n",
       "      <td>NaN</td>\n",
       "      <td>NaN</td>\n",
       "      <td>NaN</td>\n",
       "      <td>NaN</td>\n",
       "      <td>NaN</td>\n",
       "    </tr>\n",
       "    <tr>\n",
       "      <th>362</th>\n",
       "      <td>190770</td>\n",
       "      <td>14739</td>\n",
       "      <td></td>\n",
       "      <td>2000</td>\n",
       "      <td>12</td>\n",
       "      <td>28</td>\n",
       "      <td>24</td>\n",
       "      <td>18</td>\n",
       "      <td></td>\n",
       "      <td>21</td>\n",
       "      <td>...</td>\n",
       "      <td>0</td>\n",
       "      <td>NaN</td>\n",
       "      <td>NaN</td>\n",
       "      <td>NaN</td>\n",
       "      <td>NaN</td>\n",
       "      <td>NaN</td>\n",
       "      <td>NaN</td>\n",
       "      <td>NaN</td>\n",
       "      <td>NaN</td>\n",
       "      <td>NaN</td>\n",
       "    </tr>\n",
       "    <tr>\n",
       "      <th>363</th>\n",
       "      <td>190770</td>\n",
       "      <td>14739</td>\n",
       "      <td></td>\n",
       "      <td>2000</td>\n",
       "      <td>12</td>\n",
       "      <td>29</td>\n",
       "      <td>33</td>\n",
       "      <td>19</td>\n",
       "      <td></td>\n",
       "      <td>26</td>\n",
       "      <td>...</td>\n",
       "      <td>0</td>\n",
       "      <td>NaN</td>\n",
       "      <td>NaN</td>\n",
       "      <td>NaN</td>\n",
       "      <td>NaN</td>\n",
       "      <td>NaN</td>\n",
       "      <td>NaN</td>\n",
       "      <td>NaN</td>\n",
       "      <td>NaN</td>\n",
       "      <td>NaN</td>\n",
       "    </tr>\n",
       "    <tr>\n",
       "      <th>364</th>\n",
       "      <td>190770</td>\n",
       "      <td>14739</td>\n",
       "      <td></td>\n",
       "      <td>2000</td>\n",
       "      <td>12</td>\n",
       "      <td>30</td>\n",
       "      <td>39</td>\n",
       "      <td>21</td>\n",
       "      <td></td>\n",
       "      <td>30</td>\n",
       "      <td>...</td>\n",
       "      <td>0</td>\n",
       "      <td>NaN</td>\n",
       "      <td>NaN</td>\n",
       "      <td>NaN</td>\n",
       "      <td>NaN</td>\n",
       "      <td>NaN</td>\n",
       "      <td>NaN</td>\n",
       "      <td>NaN</td>\n",
       "      <td>NaN</td>\n",
       "      <td>NaN</td>\n",
       "    </tr>\n",
       "    <tr>\n",
       "      <th>365</th>\n",
       "      <td>190770</td>\n",
       "      <td>14739</td>\n",
       "      <td></td>\n",
       "      <td>2000</td>\n",
       "      <td>12</td>\n",
       "      <td>31</td>\n",
       "      <td>32</td>\n",
       "      <td>25</td>\n",
       "      <td></td>\n",
       "      <td>29</td>\n",
       "      <td>...</td>\n",
       "      <td>T</td>\n",
       "      <td>29.2</td>\n",
       "      <td>35.9</td>\n",
       "      <td>22.5</td>\n",
       "      <td>64.0</td>\n",
       "      <td>8.0</td>\n",
       "      <td>0.0</td>\n",
       "      <td>1103.0</td>\n",
       "      <td>4.67</td>\n",
       "      <td>2.4</td>\n",
       "    </tr>\n",
       "  </tbody>\n",
       "</table>\n",
       "<p>366 rows × 26 columns</p>\n",
       "</div>"
      ],
      "text/plain": [
       "     COOPID  WBANID Prelim  year  month  day  Tmax  Tmin Tobs  Tmean  ...  \\\n",
       "0    190770   14739         2000      1    1    50    27          39  ...   \n",
       "1    190770   14739         2000      1    2    54    34          44  ...   \n",
       "2    190770   14739         2000      1    3    64    43          54  ...   \n",
       "3    190770   14739         2000      1    4    63    40          52  ...   \n",
       "4    190770   14739         2000      1    5    49    22          36  ...   \n",
       "..      ...     ...    ...   ...    ...  ...   ...   ...  ...    ...  ...   \n",
       "361  190770   14739         2000     12   27    32    21          27  ...   \n",
       "362  190770   14739         2000     12   28    24    18          21  ...   \n",
       "363  190770   14739         2000     12   29    33    19          26  ...   \n",
       "364  190770   14739         2000     12   30    39    21          30  ...   \n",
       "365  190770   14739         2000     12   31    32    25          29  ...   \n",
       "\n",
       "     Snwd  meanTmean meanTmax meanTmin highTmax lowTmin sumCdd  sumHdd  \\\n",
       "0       0        NaN      NaN      NaN      NaN     NaN    NaN     NaN   \n",
       "1       0        NaN      NaN      NaN      NaN     NaN    NaN     NaN   \n",
       "2       0        NaN      NaN      NaN      NaN     NaN    NaN     NaN   \n",
       "3       0        NaN      NaN      NaN      NaN     NaN    NaN     NaN   \n",
       "4       0        NaN      NaN      NaN      NaN     NaN    NaN     NaN   \n",
       "..    ...        ...      ...      ...      ...     ...    ...     ...   \n",
       "361     0        NaN      NaN      NaN      NaN     NaN    NaN     NaN   \n",
       "362     0        NaN      NaN      NaN      NaN     NaN    NaN     NaN   \n",
       "363     0        NaN      NaN      NaN      NaN     NaN    NaN     NaN   \n",
       "364     0        NaN      NaN      NaN      NaN     NaN    NaN     NaN   \n",
       "365     T       29.2     35.9     22.5     64.0     8.0    0.0  1103.0   \n",
       "\n",
       "     sumprcp  sumsnow  \n",
       "0        NaN      NaN  \n",
       "1        NaN      NaN  \n",
       "2        NaN      NaN  \n",
       "3        NaN      NaN  \n",
       "4        NaN      NaN  \n",
       "..       ...      ...  \n",
       "361      NaN      NaN  \n",
       "362      NaN      NaN  \n",
       "363      NaN      NaN  \n",
       "364      NaN      NaN  \n",
       "365     4.67      2.4  \n",
       "\n",
       "[366 rows x 26 columns]"
      ]
     },
     "execution_count": 79,
     "metadata": {},
     "output_type": "execute_result"
    }
   ],
   "source": [
    "df = pd.read_table(\"weather.txt\", delimiter=',')\n",
    "df"
   ]
  },
  {
   "cell_type": "code",
   "execution_count": 125,
   "id": "f6f1c194",
   "metadata": {},
   "outputs": [
    {
     "data": {
      "text/plain": [
       "array([50, 54, 64, 63, 49, 36, 45, 38, 51, 56, 55, 43, 32, 16, 18, 41, 17,\n",
       "       22, 21, 22, 19, 14, 22, 32, 35, 32, 22, 19, 33, 47, 38, 35, 29, 30,\n",
       "       28, 35, 33, 42, 28, 45, 44, 44, 32, 36, 57, 44, 49, 37, 33, 33, 37,\n",
       "       40, 44, 52, 61, 47, 41, 61, 55, 49, 45, 49, 47, 53, 51, 49, 62, 48,\n",
       "       72, 57, 40, 41, 41, 53, 61, 71, 40, 32, 37, 40, 40, 44, 52, 52, 64,\n",
       "       64, 59, 57, 57, 51, 54, 61, 68, 56, 66, 53, 58, 62, 75, 61],\n",
       "      dtype=int64)"
      ]
     },
     "execution_count": 125,
     "metadata": {},
     "output_type": "execute_result"
    }
   ],
   "source": [
    "x = df[\"Tmax\"].to_numpy()\n",
    "x_100 = x[:100]\n",
    "x_100"
   ]
  },
  {
   "cell_type": "code",
   "execution_count": 126,
   "id": "4ab4dd54",
   "metadata": {},
   "outputs": [
    {
     "data": {
      "text/plain": [
       "array([ 1,  2,  3,  4,  5,  6,  7,  8,  9, 10, 11, 12, 13, 14, 15, 16, 17,\n",
       "       18, 19, 20, 21, 22, 23, 24, 25, 26, 27, 28, 29, 30, 31,  1,  2,  3,\n",
       "        4,  5,  6,  7,  8,  9, 10, 11, 12, 13, 14, 15, 16, 17, 18, 19, 20,\n",
       "       21, 22, 23, 24, 25, 26, 27, 28, 29,  1,  2,  3,  4,  5,  6,  7,  8,\n",
       "        9, 10, 11, 12, 13, 14, 15, 16, 17, 18, 19, 20, 21, 22, 23, 24, 25,\n",
       "       26, 27, 28, 29, 30, 31,  1,  2,  3,  4,  5,  6,  7,  8,  9],\n",
       "      dtype=int64)"
      ]
     },
     "execution_count": 126,
     "metadata": {},
     "output_type": "execute_result"
    }
   ],
   "source": [
    "y = df[\"day\"].to_numpy()\n",
    "y_100 = y[:100]\n",
    "y_100"
   ]
  },
  {
   "cell_type": "code",
   "execution_count": 127,
   "id": "bb6abb92",
   "metadata": {},
   "outputs": [
    {
     "data": {
      "text/plain": [
       "[<matplotlib.lines.Line2D at 0x1ce5b749fa0>]"
      ]
     },
     "execution_count": 127,
     "metadata": {},
     "output_type": "execute_result"
    },
    {
     "data": {
      "image/png": "[encoded data removed]",
      "text/plain": [
       "<Figure size 640x480 with 1 Axes>"
      ]
     },
     "metadata": {},
     "output_type": "display_data"
    }
   ],
   "source": [
    "plt.plot(x,y, '.')"
   ]
  },
  {
   "cell_type": "code",
   "execution_count": 128,
   "id": "59006ce7",
   "metadata": {},
   "outputs": [],
   "source": [
    "def line(t, a, b, c):\n",
    "    return a * np.cos(2*pi*t+b) + c"
   ]
  },
  {
   "cell_type": "code",
   "execution_count": 129,
   "id": "11cfa351",
   "metadata": {},
   "outputs": [],
   "source": [
    "from scipy.optimize import curve_fit\n",
    "from math import pi,cos"
   ]
  },
  {
   "cell_type": "code",
   "execution_count": 133,
   "id": "ffcf379d",
   "metadata": {},
   "outputs": [],
   "source": [
    "popt, pcov=  curve_fit(line, x_100, y_100)"
   ]
  },
  {
   "cell_type": "code",
   "execution_count": 134,
   "id": "763f85ff",
   "metadata": {},
   "outputs": [
    {
     "data": {
      "text/plain": [
       "array([-1.00417853, -5.08499265, 15.08554677])"
      ]
     },
     "execution_count": 134,
     "metadata": {},
     "output_type": "execute_result"
    }
   ],
   "source": [
    "popt"
   ]
  },
  {
   "cell_type": "code",
   "execution_count": 135,
   "id": "ff5d65f4",
   "metadata": {},
   "outputs": [
    {
     "data": {
      "text/plain": [
       "array([[ 1.60722562e+15,  5.54675821e+13, -6.33639964e+14],\n",
       "       [ 5.57966103e+13,  3.13922092e+13, -4.93224139e+13],\n",
       "       [-6.33945078e+14, -4.92032262e+13,  2.75268279e+14]])"
      ]
     },
     "execution_count": 135,
     "metadata": {},
     "output_type": "execute_result"
    }
   ],
   "source": [
    "pcov"
   ]
  },
  {
   "cell_type": "code",
   "execution_count": 138,
   "id": "2ef30671",
   "metadata": {},
   "outputs": [],
   "source": [
    "e=np.repeat(10., 100)"
   ]
  },
  {
   "cell_type": "code",
   "execution_count": 139,
   "id": "3c3aa452",
   "metadata": {},
   "outputs": [
    {
     "data": {
      "text/plain": [
       "<ErrorbarContainer object of 3 artists>"
      ]
     },
     "execution_count": 139,
     "metadata": {},
     "output_type": "execute_result"
    },
    {
     "data": {
      "image/png": "[encoded data removed]",
      "text/plain": [
       "<Figure size 640x480 with 1 Axes>"
      ]
     },
     "metadata": {},
     "output_type": "display_data"
    }
   ],
   "source": [
    "plt.errorbar(x_100,y_100,yerr=e, fmt=\"none\")"
   ]
  },
  {
   "cell_type": "code",
   "execution_count": 140,
   "id": "612762d4",
   "metadata": {},
   "outputs": [],
   "source": [
    "popt, pcov=curve_fit(line, x_100,y_100, sigma=e)"
   ]
  },
  {
   "cell_type": "code",
   "execution_count": 141,
   "id": "3dfb584d",
   "metadata": {},
   "outputs": [
    {
     "data": {
      "text/plain": [
       "array([ -3.62172107, -10.18821507,  12.10347173])"
      ]
     },
     "execution_count": 141,
     "metadata": {},
     "output_type": "execute_result"
    }
   ],
   "source": [
    "popt"
   ]
  },
  {
   "cell_type": "code",
   "execution_count": 142,
   "id": "420703c0",
   "metadata": {},
   "outputs": [
    {
     "name": "stdout",
     "output_type": "stream",
     "text": [
      "a=  -3.621721065020817 +/- 98782427.77222715\n"
     ]
    }
   ],
   "source": [
    "print(\"a= \", popt[0], \"+/-\", pcov[0,0]**.5)"
   ]
  },
  {
   "cell_type": "code",
   "execution_count": 143,
   "id": "cbf379af",
   "metadata": {},
   "outputs": [
    {
     "name": "stdout",
     "output_type": "stream",
     "text": [
      "b=  -10.188215069351351 +/- 14116648.883116903\n"
     ]
    }
   ],
   "source": [
    "print(\"b= \", popt[1], \"+/-\", pcov[1,1]**.5)"
   ]
  },
  {
   "cell_type": "code",
   "execution_count": 145,
   "id": "177f4501",
   "metadata": {},
   "outputs": [
    {
     "data": {
      "text/plain": [
       "[<matplotlib.lines.Line2D at 0x1ce592768b0>]"
      ]
     },
     "execution_count": 145,
     "metadata": {},
     "output_type": "execute_result"
    },
    {
     "data": {
      "image/png": "[encoded data removed]",
      "text/plain": [
       "<Figure size 640x480 with 1 Axes>"
      ]
     },
     "metadata": {},
     "output_type": "display_data"
    }
   ],
   "source": [
    "plt.errorbar(x_100,y_100,yerr=e, fmt=\"none\")\n",
    "xfine=np.linspace(0., 100., 100)\n",
    "plt.plot(xfine, line(xfine,popt[0], popt[1], popt[2]), 'r-')"
   ]
  },
  {
   "cell_type": "code",
   "execution_count": null,
   "id": "2119bb21",
   "metadata": {},
   "outputs": [],
   "source": []
  }
 ],
 "metadata": {
  "kernelspec": {
   "display_name": "Python 3",
   "language": "python",
   "name": "python3"
  },
  "language_info": {
   "codemirror_mode": {
    "name": "ipython",
    "version": 3
   },
   "file_extension": ".py",
   "mimetype": "text/x-python",
   "name": "python",
   "nbconvert_exporter": "python",
   "pygments_lexer": "ipython3",
   "version": "3.10.10"
  },
  "vscode": {
   "interpreter": {
    "hash": "d6d2232e1c662d02d607560a8c29612709d4063ce4c307b66850323d937cdc02"
   }
  }
 },
 "nbformat": 4,
 "nbformat_minor": 5
}
